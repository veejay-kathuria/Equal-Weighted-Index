{
 "cells": [
  {
   "cell_type": "code",
   "execution_count": 5,
   "id": "f3150be0-491f-412c-b945-68d003d56e4e",
   "metadata": {},
   "outputs": [
    {
     "name": "stdout",
     "output_type": "stream",
     "text": [
      "Requirement already satisfied: numpy in c:\\users\\s438510\\appdata\\local\\anaconda3\\lib\\site-packages (1.26.4)\n",
      "Requirement already satisfied: pandas in c:\\users\\s438510\\appdata\\local\\anaconda3\\lib\\site-packages (2.1.4)\n",
      "Requirement already satisfied: requests in c:\\users\\s438510\\appdata\\local\\anaconda3\\lib\\site-packages (2.31.0)\n",
      "Requirement already satisfied: xlsxwriter in c:\\users\\s438510\\appdata\\local\\anaconda3\\lib\\site-packages (3.2.0)\n",
      "Requirement already satisfied: python-math in c:\\users\\s438510\\appdata\\local\\anaconda3\\lib\\site-packages (0.0.1)\n",
      "Requirement already satisfied: yfinance in c:\\users\\s438510\\appdata\\local\\anaconda3\\lib\\site-packages (0.2.40)\n",
      "Requirement already satisfied: python-dateutil>=2.8.2 in c:\\users\\s438510\\appdata\\local\\anaconda3\\lib\\site-packages (from pandas) (2.8.2)\n",
      "Requirement already satisfied: pytz>=2020.1 in c:\\users\\s438510\\appdata\\local\\anaconda3\\lib\\site-packages (from pandas) (2023.3.post1)\n",
      "Requirement already satisfied: tzdata>=2022.1 in c:\\users\\s438510\\appdata\\local\\anaconda3\\lib\\site-packages (from pandas) (2023.3)\n",
      "Requirement already satisfied: charset-normalizer<4,>=2 in c:\\users\\s438510\\appdata\\local\\anaconda3\\lib\\site-packages (from requests) (2.0.4)\n",
      "Requirement already satisfied: idna<4,>=2.5 in c:\\users\\s438510\\appdata\\local\\anaconda3\\lib\\site-packages (from requests) (3.4)\n",
      "Requirement already satisfied: urllib3<3,>=1.21.1 in c:\\users\\s438510\\appdata\\local\\anaconda3\\lib\\site-packages (from requests) (2.0.7)\n",
      "Requirement already satisfied: certifi>=2017.4.17 in c:\\users\\s438510\\appdata\\local\\anaconda3\\lib\\site-packages (from requests) (2024.2.2)\n",
      "Requirement already satisfied: multitasking>=0.0.7 in c:\\users\\s438510\\appdata\\local\\anaconda3\\lib\\site-packages (from yfinance) (0.0.11)\n",
      "Requirement already satisfied: lxml>=4.9.1 in c:\\users\\s438510\\appdata\\local\\anaconda3\\lib\\site-packages (from yfinance) (4.9.3)\n",
      "Requirement already satisfied: platformdirs>=2.0.0 in c:\\users\\s438510\\appdata\\local\\anaconda3\\lib\\site-packages (from yfinance) (3.10.0)\n",
      "Requirement already satisfied: frozendict>=2.3.4 in c:\\users\\s438510\\appdata\\local\\anaconda3\\lib\\site-packages (from yfinance) (2.4.4)\n",
      "Requirement already satisfied: peewee>=3.16.2 in c:\\users\\s438510\\appdata\\local\\anaconda3\\lib\\site-packages (from yfinance) (3.17.5)\n",
      "Requirement already satisfied: beautifulsoup4>=4.11.1 in c:\\users\\s438510\\appdata\\local\\anaconda3\\lib\\site-packages (from yfinance) (4.12.2)\n",
      "Requirement already satisfied: html5lib>=1.1 in c:\\users\\s438510\\appdata\\local\\anaconda3\\lib\\site-packages (from yfinance) (1.1)\n",
      "Requirement already satisfied: soupsieve>1.2 in c:\\users\\s438510\\appdata\\local\\anaconda3\\lib\\site-packages (from beautifulsoup4>=4.11.1->yfinance) (2.5)\n",
      "Requirement already satisfied: six>=1.9 in c:\\users\\s438510\\appdata\\local\\anaconda3\\lib\\site-packages (from html5lib>=1.1->yfinance) (1.16.0)\n",
      "Requirement already satisfied: webencodings in c:\\users\\s438510\\appdata\\local\\anaconda3\\lib\\site-packages (from html5lib>=1.1->yfinance) (0.5.1)\n",
      "Note: you may need to restart the kernel to use updated packages.\n"
     ]
    }
   ],
   "source": [
    "pip install numpy pandas requests xlsxwriter python-math yfinance"
   ]
  },
  {
   "cell_type": "code",
   "execution_count": 6,
   "id": "d60c9b0e-fed3-420a-a583-1d49699d3b40",
   "metadata": {},
   "outputs": [],
   "source": [
    "import numpy as np #The Numpy numerical computing library\n",
    "import pandas as pd #The Pandas data science library\n",
    "import requests #The requests library for HTTP requests in Python\n",
    "import xlsxwriter #The XlsxWriter libarary for \n",
    "import math #The Python math module\n",
    "import yfinance as yf"
   ]
  },
  {
   "cell_type": "code",
   "execution_count": 7,
   "id": "718255b7-ce84-443f-b6e7-14af5a6022a7",
   "metadata": {},
   "outputs": [
    {
     "name": "stdin",
     "output_type": "stream",
     "text": [
      "Enter the total portfolio size in dollars:  1000000\n"
     ]
    }
   ],
   "source": [
    "# Get the portfolio size from the user\n",
    "portfolio_size = float(input(\"Enter the total portfolio size in dollars: \"))"
   ]
  },
  {
   "cell_type": "code",
   "execution_count": 27,
   "id": "07fd0bc7-1d52-4a55-ad71-309399f09524",
   "metadata": {},
   "outputs": [],
   "source": [
    "# Calculate the number of shares for an equal weighted portfolio\n",
    "def equal_weighted_portfolio(result_df):\n",
    "    num_tickers = len(result_df)\n",
    "    equal_weight = float(portfolio_size) / float(num_tickers)\n",
    "    \n",
    "    result_df['Number of Shares'] = round(result_df['Last Price'].apply(\n",
    "        lambda x: equal_weight / x if x else None)\n",
    "    )\n",
    "    return result_df"
   ]
  },
  {
   "cell_type": "code",
   "execution_count": 28,
   "id": "b3774a98-6de6-4eb5-94bc-a956a038bce5",
   "metadata": {},
   "outputs": [],
   "source": [
    "# Calculate the number of shares in market capital weighted portfolio\n",
    "def mcap_weighted_portfolio (result_df):\n",
    "    total_market_cap = result_df['Market Cap'].sum()\n",
    "    result_df['Weight'] = result_df['Market Cap'] / total_market_cap\n",
    "    result_df['Dollar Amount Allocated'] = result_df['Weight'] * portfolio_size\n",
    "    result_df['Number of Shares'] = round( result_df.apply(\n",
    "        lambda row: row['Dollar Amount Allocated'] / row['Last Price'] if row['Last Price'] else None, axis=1\n",
    "    ))\n",
    "    return result_df"
   ]
  },
  {
   "cell_type": "code",
   "execution_count": 10,
   "id": "a9f321eb-9f50-432f-bc49-eef6697c8ef3",
   "metadata": {},
   "outputs": [
    {
     "name": "stdin",
     "output_type": "stream",
     "text": [
      "Enter the File path for CSV file to stock with stock tickers.:  https://raw.githubusercontent.com/veejay-kathuria/portfolio_weights/main/example%20file.csv\n"
     ]
    }
   ],
   "source": [
    "# Get the file path to file with list of tickers in our portfolio\n",
    "file_path = str(input(\"Enter the File path for CSV file to stock with stock tickers.: \"))"
   ]
  },
  {
   "cell_type": "code",
   "execution_count": 11,
   "id": "cc7d86ef-e3f4-4918-8e7a-3d27b97dc0a3",
   "metadata": {},
   "outputs": [
    {
     "name": "stdin",
     "output_type": "stream",
     "text": [
      "Enter '1' for an Market capital weighted portfolio else press enter.  1\n"
     ]
    }
   ],
   "source": [
    "# Getting type of portfolio weighting\n",
    "portfolio_type = input(\"Enter '1' for an Market capital weighted portfolio else press enter. \")"
   ]
  },
  {
   "cell_type": "code",
   "execution_count": 29,
   "id": "9c5c0197-e60a-4e47-9766-3e60b1c73db5",
   "metadata": {},
   "outputs": [],
   "source": [
    "# Load the tickers from the Excel sheet\n",
    "tickers_df = pd.read_csv(file_path)\n",
    "tickers = tickers_df['Ticker'].tolist()"
   ]
  },
  {
   "cell_type": "code",
   "execution_count": 30,
   "id": "6cc4b2cf-87dc-474f-ad6d-c338aa11bf19",
   "metadata": {},
   "outputs": [],
   "source": [
    "# Prepare a list to hold the data\n",
    "data = []\n",
    "# Fetching market cap and last price for each ticker\n",
    "for ticker in tickers:\n",
    "    try:\n",
    "        stock = yf.Ticker(ticker)\n",
    "        info = stock.info\n",
    "        market_cap = info.get('marketCap')\n",
    "        last_price = info.get('previousClose')\n",
    "        d = [ticker, market_cap, last_price]\n",
    "        data.append([ticker, market_cap, last_price])\n",
    "    except Exception as e:\n",
    "        print(f\"Could not retrieve data for {ticker}: {e}\")\n",
    "        data.append([ticker, None, None])\n",
    "        continue\n",
    "\n",
    "# Create a DataFrame from the data\n",
    "result_df = pd.DataFrame(data, columns=['Ticker', 'Market Cap', 'Last Price'])"
   ]
  },
  {
   "cell_type": "code",
   "execution_count": 43,
   "id": "1a9a6466-557e-4dd7-91fb-c97a38a40789",
   "metadata": {},
   "outputs": [],
   "source": [
    "#Calculate number of shares of each ticker as per type of weighting\n",
    "result_df = equal_weighted_portfolio (result_df) if (portfolio_type != 1) else mcap_weighted_portfolio(result_df)"
   ]
  },
  {
   "cell_type": "code",
   "execution_count": 42,
   "id": "9f2ed01c-f7ce-4552-b232-3bbd53126d3d",
   "metadata": {},
   "outputs": [
    {
     "name": "stdout",
     "output_type": "stream",
     "text": [
      "Data saved to sp_500_stocks_with_market_cap_and_shares.xlsx\n"
     ]
    }
   ],
   "source": [
    "# Save the result to a new Excel sheet\n",
    "result_file_path = 'sp_500_stocks_with_market_cap_and_shares.xlsx'\n",
    "result_df.to_csv(result_file_path, index=False)\n",
    "\n",
    "print(f\"Data saved to {result_file_path}\")"
   ]
  }
 ],
 "metadata": {
  "kernelspec": {
   "display_name": "Python 3 (ipykernel)",
   "language": "python",
   "name": "python3"
  },
  "language_info": {
   "codemirror_mode": {
    "name": "ipython",
    "version": 3
   },
   "file_extension": ".py",
   "mimetype": "text/x-python",
   "name": "python",
   "nbconvert_exporter": "python",
   "pygments_lexer": "ipython3",
   "version": "3.11.7"
  }
 },
 "nbformat": 4,
 "nbformat_minor": 5
}
