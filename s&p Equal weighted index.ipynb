{
 "cells": [
  {
   "cell_type": "code",
   "execution_count": 19,
   "id": "3b0c2bd6-c975-4a6a-8604-f6067a78df01",
   "metadata": {},
   "outputs": [
    {
     "name": "stdout",
     "output_type": "stream",
     "text": [
      "Requirement already satisfied: numpy in c:\\users\\vsk\\anaconda3\\lib\\site-packages (1.26.4)\n",
      "Requirement already satisfied: pandas in c:\\users\\vsk\\anaconda3\\lib\\site-packages (2.1.4)\n",
      "Requirement already satisfied: requests in c:\\users\\vsk\\anaconda3\\lib\\site-packages (2.31.0)\n",
      "Requirement already satisfied: xlsxwriter in c:\\users\\vsk\\anaconda3\\lib\\site-packages (3.2.0)\n",
      "Requirement already satisfied: python-math in c:\\users\\vsk\\anaconda3\\lib\\site-packages (0.0.1)\n",
      "Requirement already satisfied: yfinance in c:\\users\\vsk\\anaconda3\\lib\\site-packages (0.2.40)\n",
      "Requirement already satisfied: python-dateutil>=2.8.2 in c:\\users\\vsk\\anaconda3\\lib\\site-packages (from pandas) (2.8.2)\n",
      "Requirement already satisfied: pytz>=2020.1 in c:\\users\\vsk\\anaconda3\\lib\\site-packages (from pandas) (2023.3.post1)\n",
      "Requirement already satisfied: tzdata>=2022.1 in c:\\users\\vsk\\anaconda3\\lib\\site-packages (from pandas) (2023.3)\n",
      "Requirement already satisfied: charset-normalizer<4,>=2 in c:\\users\\vsk\\anaconda3\\lib\\site-packages (from requests) (2.0.4)\n",
      "Requirement already satisfied: idna<4,>=2.5 in c:\\users\\vsk\\anaconda3\\lib\\site-packages (from requests) (3.4)\n",
      "Requirement already satisfied: urllib3<3,>=1.21.1 in c:\\users\\vsk\\anaconda3\\lib\\site-packages (from requests) (2.0.7)\n",
      "Requirement already satisfied: certifi>=2017.4.17 in c:\\users\\vsk\\anaconda3\\lib\\site-packages (from requests) (2024.2.2)\n",
      "Requirement already satisfied: multitasking>=0.0.7 in c:\\users\\vsk\\anaconda3\\lib\\site-packages (from yfinance) (0.0.11)\n",
      "Requirement already satisfied: lxml>=4.9.1 in c:\\users\\vsk\\anaconda3\\lib\\site-packages (from yfinance) (4.9.3)\n",
      "Requirement already satisfied: platformdirs>=2.0.0 in c:\\users\\vsk\\anaconda3\\lib\\site-packages (from yfinance) (3.10.0)\n",
      "Requirement already satisfied: frozendict>=2.3.4 in c:\\users\\vsk\\anaconda3\\lib\\site-packages (from yfinance) (2.4.4)\n",
      "Requirement already satisfied: peewee>=3.16.2 in c:\\users\\vsk\\anaconda3\\lib\\site-packages (from yfinance) (3.17.5)\n",
      "Requirement already satisfied: beautifulsoup4>=4.11.1 in c:\\users\\vsk\\anaconda3\\lib\\site-packages (from yfinance) (4.12.2)\n",
      "Requirement already satisfied: html5lib>=1.1 in c:\\users\\vsk\\anaconda3\\lib\\site-packages (from yfinance) (1.1)\n",
      "Requirement already satisfied: soupsieve>1.2 in c:\\users\\vsk\\anaconda3\\lib\\site-packages (from beautifulsoup4>=4.11.1->yfinance) (2.5)\n",
      "Requirement already satisfied: six>=1.9 in c:\\users\\vsk\\anaconda3\\lib\\site-packages (from html5lib>=1.1->yfinance) (1.16.0)\n",
      "Requirement already satisfied: webencodings in c:\\users\\vsk\\anaconda3\\lib\\site-packages (from html5lib>=1.1->yfinance) (0.5.1)\n",
      "Note: you may need to restart the kernel to use updated packages.\n"
     ]
    }
   ],
   "source": [
    "pip install numpy pandas requests xlsxwriter python-math yfinance"
   ]
  },
  {
   "cell_type": "code",
   "execution_count": null,
   "id": "58fd1f7a-704a-4f41-a604-9cf23a0e74a2",
   "metadata": {},
   "outputs": [],
   "source": []
  },
  {
   "cell_type": "code",
   "execution_count": 20,
   "id": "f49a63fd-6883-4021-81d3-5a317b07008f",
   "metadata": {},
   "outputs": [],
   "source": [
    "import numpy as np #The Numpy numerical computing library\n",
    "import pandas as pd #The Pandas data science library\n",
    "import requests #The requests library for HTTP requests in Python\n",
    "import xlsxwriter #The XlsxWriter libarary for \n",
    "import math #The Python math module\n",
    "import yfinance as yf"
   ]
  },
  {
   "cell_type": "code",
   "execution_count": 43,
   "id": "7e712177-b95a-47da-86bd-165fcf613dbb",
   "metadata": {},
   "outputs": [],
   "source": [
    "# Load the tickers from the Excel sheet\n",
    "file_path = 'Desktop/Code/S&P Equal weighted index./sp_500_stocks (1).csv'\n",
    "tickers_df = pd.read_csv(file_path)\n",
    "tickers = tickers_df['Ticker'].tolist()"
   ]
  },
  {
   "cell_type": "code",
   "execution_count": 45,
   "id": "c77ce03d-2019-4581-a19f-d495c7170834",
   "metadata": {},
   "outputs": [
    {
     "name": "stderr",
     "output_type": "stream",
     "text": [
      "404 Client Error: Not Found for url: https://query2.finance.yahoo.com/v10/finance/quoteSummary/ABC?modules=financialData%2CquoteType%2CdefaultKeyStatistics%2CassetProfile%2CsummaryDetail&corsDomain=finance.yahoo.com&formatted=false&symbol=ABC&crumb=VHVAUaPqvZf\n",
      "404 Client Error: Not Found for url: https://query2.finance.yahoo.com/v10/finance/quoteSummary/ATVI?modules=financialData%2CquoteType%2CdefaultKeyStatistics%2CassetProfile%2CsummaryDetail&corsDomain=finance.yahoo.com&formatted=false&symbol=ATVI&crumb=VHVAUaPqvZf\n",
      "404 Client Error: Not Found for url: https://query2.finance.yahoo.com/v10/finance/quoteSummary/DISH?modules=financialData%2CquoteType%2CdefaultKeyStatistics%2CassetProfile%2CsummaryDetail&corsDomain=finance.yahoo.com&formatted=false&symbol=DISH&crumb=VHVAUaPqvZf\n",
      "404 Client Error: Not Found for url: https://query2.finance.yahoo.com/v10/finance/quoteSummary/FLT?modules=financialData%2CquoteType%2CdefaultKeyStatistics%2CassetProfile%2CsummaryDetail&corsDomain=finance.yahoo.com&formatted=false&symbol=FLT&crumb=VHVAUaPqvZf\n",
      "404 Client Error: Not Found for url: https://query2.finance.yahoo.com/v10/finance/quoteSummary/PEAK?modules=financialData%2CquoteType%2CdefaultKeyStatistics%2CassetProfile%2CsummaryDetail&corsDomain=finance.yahoo.com&formatted=false&symbol=PEAK&crumb=VHVAUaPqvZf\n",
      "404 Client Error: Not Found for url: https://query2.finance.yahoo.com/v10/finance/quoteSummary/RE?modules=financialData%2CquoteType%2CdefaultKeyStatistics%2CassetProfile%2CsummaryDetail&corsDomain=finance.yahoo.com&formatted=false&symbol=RE&crumb=VHVAUaPqvZf\n"
     ]
    }
   ],
   "source": [
    "# Prepare a list to hold the data\n",
    "data = []\n",
    "# Fetching market cap and last price for each ticker\n",
    "for ticker in tickers:\n",
    "    try:\n",
    "        stock = yf.Ticker(ticker)\n",
    "        info = stock.info\n",
    "        market_cap = info.get('marketCap')\n",
    "        last_price = info.get('previousClose')\n",
    "        d = [ticker, market_cap, last_price]\n",
    "        data.append([ticker, market_cap, last_price])\n",
    "    except Exception as e:\n",
    "        print(f\"Could not retrieve data for {ticker}: {e}\")\n",
    "        data.append([ticker, None, None])\n",
    "        continue\n",
    "\n",
    "# Create a DataFrame from the data\n",
    "result_df = pd.DataFrame(data, columns=['Ticker', 'Market Cap', 'Last Price'])"
   ]
  },
  {
   "cell_type": "code",
   "execution_count": 36,
   "id": "fcf6fbda-2f30-42a7-a9ba-e25a4f6dfab5",
   "metadata": {},
   "outputs": [
    {
     "name": "stdin",
     "output_type": "stream",
     "text": [
      "Enter the total portfolio size in dollars:  1000000\n"
     ]
    }
   ],
   "source": [
    "# Get the portfolio size from the user\n",
    "portfolio_size = float(input(\"Enter the total portfolio size in dollars: \"))"
   ]
  },
  {
   "cell_type": "code",
   "execution_count": 47,
   "id": "ebb15892-d57e-4064-ac06-2ff4ad3dbd91",
   "metadata": {},
   "outputs": [
    {
     "name": "stdout",
     "output_type": "stream",
     "text": [
      "Data saved to sp_500_stocks_with_market_cap_and_shares.xlsx\n"
     ]
    }
   ],
   "source": [
    "# Calculate the number of shares for an equal weighted portfolio\n",
    "num_tickers = len(result_df)\n",
    "equal_weight = float(portfolio_size) / float(num_tickers)\n",
    "\n",
    "result_df['Number of Shares'] = result_df['Last Price'].apply(\n",
    "    lambda x: equal_weight / x if x else None\n",
    ")\n",
    "\n",
    "# Save the result to a new Excel sheet\n",
    "result_file_path = 'sp_500_stocks_with_market_cap_and_shares.xlsx'\n",
    "result_df.to_excel(result_file_path, index=False)\n",
    "\n",
    "print(f\"Data saved to {result_file_path}\")"
   ]
  }
 ],
 "metadata": {
  "kernelspec": {
   "display_name": "Python 3 (ipykernel)",
   "language": "python",
   "name": "python3"
  },
  "language_info": {
   "codemirror_mode": {
    "name": "ipython",
    "version": 3
   },
   "file_extension": ".py",
   "mimetype": "text/x-python",
   "name": "python",
   "nbconvert_exporter": "python",
   "pygments_lexer": "ipython3",
   "version": "3.11.7"
  }
 },
 "nbformat": 4,
 "nbformat_minor": 5
}
